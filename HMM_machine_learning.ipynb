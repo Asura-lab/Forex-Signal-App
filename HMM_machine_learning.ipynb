{
 "cells": [
  {
   "cell_type": "markdown",
   "id": "f99307fd",
   "metadata": {},
   "source": [
    "# Форекс Сигнал Таамаглах Hidden Markov Model\n",
    "\n",
    "## 5 Ангилалын Машин Сургалтын Систем\n",
    "\n",
    "Энэ notebook нь форекс хослолуудын хөдөлгөөнийг дараах 5 ангилалд хуваан таамаглах HMM модель сургана:\n",
    "\n",
    "1. **High volatility up** - Өндөр хэлбэлзэлтэй өсөлт\n",
    "2. **Medium volatility up** - Дунд хэлбэлзэлтэй өсөлт\n",
    "3. **No trend** - Чиглэлгүй (хажуу тийш)\n",
    "4. **Medium volatility down** - Дунд хэлбэлзэлтэй бууралт\n",
    "5. **High volatility down** - Өндөр хэлбэлзэлтэй бууралт\n",
    "\n",
    "### Аргачлал:\n",
    "\n",
    "- **Walking Forward Analysis**: Модель дараалсан цонхоор сургагдаж, ирээдүйг таамаглана\n",
    "- **Backtest**: Test датан дээр таамаглалыг шалгана\n",
    "- **Performance Metrics**: Нийт нарийвчлал болон ангилал тус бүрийн гүйцэтгэлийг хэмжинэ\n"
   ]
  },
  {
   "cell_type": "code",
   "execution_count": 1,
   "id": "65594a2b",
   "metadata": {},
   "outputs": [
    {
     "name": "stdout",
     "output_type": "stream",
     "text": [
      "Сангууд амжилттай импортлогдлоо ✓\n"
     ]
    }
   ],
   "source": [
    "# Шаардлагатай сангуудыг импортлох\n",
    "import pandas as pd\n",
    "import numpy as np\n",
    "from hmmlearn import hmm\n",
    "import os\n",
    "import warnings\n",
    "from sklearn.preprocessing import StandardScaler\n",
    "from sklearn.metrics import classification_report, confusion_matrix, accuracy_score\n",
    "import matplotlib.pyplot as plt\n",
    "import seaborn as sns\n",
    "from datetime import datetime\n",
    "import pickle\n",
    "\n",
    "warnings.filterwarnings('ignore')\n",
    "\n",
    "print(\"Сангууд амжилттай импортлогдлоо ✓\")"
   ]
  },
  {
   "cell_type": "markdown",
   "id": "f65f0c21",
   "metadata": {},
   "source": [
    "## 1. Датаг уншиж боловсруулах функцууд\n"
   ]
  },
  {
   "cell_type": "code",
   "execution_count": 2,
   "id": "e4eada19",
   "metadata": {},
   "outputs": [
    {
     "name": "stdout",
     "output_type": "stream",
     "text": [
      "Дата боловсруулах функцууд бэлэн ✓\n"
     ]
    }
   ],
   "source": [
    "def load_forex_data(file_path):\n",
    "    \"\"\"\n",
    "    Форекс датаг уншиж, цаг хугацааг индекс болгон тохируулна\n",
    "    \n",
    "    Parameters:\n",
    "    -----------\n",
    "    file_path : str\n",
    "        CSV файлын зам\n",
    "    \n",
    "    Returns:\n",
    "    --------\n",
    "    DataFrame : Боловсруулагдсан дата\n",
    "    \"\"\"\n",
    "    print(f\"Уншиж байна: {os.path.basename(file_path)}\")\n",
    "    \n",
    "    # Датаг унших (эхний баганыг цаг хугацаа гэж үзнэ)\n",
    "    df = pd.read_csv(file_path)\n",
    "    \n",
    "    # Эхний баганыг цаг хугацаа болгох\n",
    "    df.columns = ['time', 'open', 'high', 'low', 'close', 'volume']\n",
    "    df['time'] = pd.to_datetime(df['time'])\n",
    "    df.set_index('time', inplace=True)\n",
    "    \n",
    "    print(f\"  Мөрийн тоо: {len(df):,}\")\n",
    "    print(f\"  Хугацаа: {df.index[0]} - {df.index[-1]}\")\n",
    "    \n",
    "    return df\n",
    "\n",
    "def calculate_features(df):\n",
    "    \"\"\"\n",
    "    Техникийн шинж чанаруудыг тооцоолно\n",
    "    \n",
    "    Parameters:\n",
    "    -----------\n",
    "    df : DataFrame\n",
    "        OHLCV дата\n",
    "    \n",
    "    Returns:\n",
    "    --------\n",
    "    DataFrame : Шинж чанарууд нэмэгдсэн дата\n",
    "    \"\"\"\n",
    "    df = df.copy()\n",
    "    \n",
    "    # Үнийн өөрчлөлт (Returns)\n",
    "    df['returns'] = df['close'].pct_change()\n",
    "    \n",
    "    # Volatility (хэлбэлзэл) - өндөр ба намын зөрүү\n",
    "    df['volatility'] = (df['high'] - df['low']) / df['close']\n",
    "    \n",
    "    # ATR (Average True Range) - 14 периодын дундаж үнэн range\n",
    "    df['true_range'] = np.maximum(\n",
    "        df['high'] - df['low'],\n",
    "        np.maximum(\n",
    "            abs(df['high'] - df['close'].shift(1)),\n",
    "            abs(df['low'] - df['close'].shift(1))\n",
    "        )\n",
    "    )\n",
    "    df['atr'] = df['true_range'].rolling(window=14).mean()\n",
    "    \n",
    "    # Moving Averages - богино ба урт хугацааны дундаж\n",
    "    df['ma_5'] = df['close'].rolling(window=5).mean()\n",
    "    df['ma_20'] = df['close'].rolling(window=20).mean()\n",
    "    df['ma_50'] = df['close'].rolling(window=50).mean()\n",
    "    \n",
    "    # MA Cross - богино дундаж урт дундажтай харьцуулахад\n",
    "    df['ma_cross'] = (df['ma_5'] - df['ma_20']) / df['close']\n",
    "    \n",
    "    # RSI (Relative Strength Index)\n",
    "    delta = df['close'].diff()\n",
    "    gain = (delta.where(delta > 0, 0)).rolling(window=14).mean()\n",
    "    loss = (-delta.where(delta < 0, 0)).rolling(window=14).mean()\n",
    "    rs = gain / loss\n",
    "    df['rsi'] = 100 - (100 / (1 + rs))\n",
    "    \n",
    "    # Volume өөрчлөлт\n",
    "    df['volume_change'] = df['volume'].pct_change()\n",
    "    \n",
    "    # Дараагийн периодын returns (Target үүсгэхэд ашиглана)\n",
    "    df['future_returns'] = df['returns'].shift(-1)\n",
    "    df['future_volatility'] = df['volatility'].shift(-1)\n",
    "    \n",
    "    # NaN утгуудыг устгах\n",
    "    df.dropna(inplace=True)\n",
    "    \n",
    "    return df\n",
    "\n",
    "print(\"Дата боловсруулах функцууд бэлэн ✓\")"
   ]
  },
  {
   "cell_type": "markdown",
   "id": "8ee0c4dc",
   "metadata": {},
   "source": [
    "## 2. 5 Ангилалын шошго үүсгэх\n"
   ]
  },
  {
   "cell_type": "code",
   "execution_count": 3,
   "id": "b54a337a",
   "metadata": {},
   "outputs": [
    {
     "name": "stdout",
     "output_type": "stream",
     "text": [
      "Шошго үүсгэх функц бэлэн ✓\n"
     ]
    }
   ],
   "source": [
    "def create_labels(df, volatility_threshold_high=0.75, volatility_threshold_med=0.25):\n",
    "    \"\"\"\n",
    "    5 ангилалын шошго үүсгэнэ:\n",
    "    0 - High volatility down\n",
    "    1 - Medium volatility down\n",
    "    2 - No trend\n",
    "    3 - Medium volatility up\n",
    "    4 - High volatility up\n",
    "    \n",
    "    Parameters:\n",
    "    -----------\n",
    "    df : DataFrame\n",
    "        Шинж чанарууд бүхий дата\n",
    "    volatility_threshold_high : float\n",
    "        Өндөр хэлбэлзлийн босго (квантиль)\n",
    "    volatility_threshold_med : float\n",
    "        Дунд хэлбэлзлийн босго (квантиль)\n",
    "    \n",
    "    Returns:\n",
    "    --------\n",
    "    DataFrame : Шошготой дата\n",
    "    \"\"\"\n",
    "    df = df.copy()\n",
    "    \n",
    "    # Volatility ангиллуудыг тодорхойлох\n",
    "    vol_high = df['future_volatility'].quantile(volatility_threshold_high)\n",
    "    vol_med = df['future_volatility'].quantile(volatility_threshold_med)\n",
    "    \n",
    "    # Returns-ын чиглэлийг тодорхойлох\n",
    "    ret_threshold = 0.0001  # Маш жижиг өөрчлөлтийг \"No trend\" гэж үзнэ\n",
    "    \n",
    "    # Шошго үүсгэх логик\n",
    "    def assign_label(row):\n",
    "        ret = row['future_returns']\n",
    "        vol = row['future_volatility']\n",
    "        \n",
    "        # No trend - бага өөрчлөлт\n",
    "        if abs(ret) < ret_threshold:\n",
    "            return 2\n",
    "        \n",
    "        # Өсөлтийн чиглэл\n",
    "        if ret > 0:\n",
    "            if vol > vol_high:\n",
    "                return 4  # High volatility up\n",
    "            elif vol > vol_med:\n",
    "                return 3  # Medium volatility up\n",
    "            else:\n",
    "                return 2  # No trend (бага vol)\n",
    "        \n",
    "        # Бууралтын чиглэл\n",
    "        else:\n",
    "            if vol > vol_high:\n",
    "                return 0  # High volatility down\n",
    "            elif vol > vol_med:\n",
    "                return 1  # Medium volatility down\n",
    "            else:\n",
    "                return 2  # No trend (бага vol)\n",
    "    \n",
    "    df['label'] = df.apply(assign_label, axis=1)\n",
    "    \n",
    "    # Ангилалын хуваарилалтыг харуулах\n",
    "    label_names = {\n",
    "        0: 'High volatility down',\n",
    "        1: 'Medium volatility down',\n",
    "        2: 'No trend',\n",
    "        3: 'Medium volatility up',\n",
    "        4: 'High volatility up'\n",
    "    }\n",
    "    \n",
    "    print(\"\\nАнгилалын хуваарилалт:\")\n",
    "    for label, name in label_names.items():\n",
    "        count = (df['label'] == label).sum()\n",
    "        pct = count / len(df) * 100\n",
    "        print(f\"  {label} - {name}: {count:,} ({pct:.1f}%)\")\n",
    "    \n",
    "    return df\n",
    "\n",
    "print(\"Шошго үүсгэх функц бэлэн ✓\")"
   ]
  },
  {
   "cell_type": "markdown",
   "id": "873b0d42",
   "metadata": {},
   "source": [
    "## 3. HMM модель сургах функцууд\n"
   ]
  },
  {
   "cell_type": "code",
   "execution_count": 4,
   "id": "2a5b8851",
   "metadata": {},
   "outputs": [
    {
     "name": "stdout",
     "output_type": "stream",
     "text": [
      "HMM сургах функцууд бэлэн ✓\n"
     ]
    }
   ],
   "source": [
    "def prepare_features_for_hmm(df):\n",
    "    \"\"\"\n",
    "    HMM-д ашиглах шинж чанаруудыг бэлдэнэ\n",
    "    \n",
    "    Parameters:\n",
    "    -----------\n",
    "    df : DataFrame\n",
    "        Бүрэн дата\n",
    "    \n",
    "    Returns:\n",
    "    --------\n",
    "    numpy.ndarray : Стандартчилагдсан шинж чанарууд\n",
    "    \"\"\"\n",
    "    feature_columns = ['returns', 'volatility', 'atr', 'ma_cross', 'rsi', 'volume_change']\n",
    "    X = df[feature_columns].values\n",
    "    \n",
    "    # Стандартчилал (0 дундаж, 1 стандарт хазайлт)\n",
    "    scaler = StandardScaler()\n",
    "    X_scaled = scaler.fit_transform(X)\n",
    "    \n",
    "    return X_scaled, scaler\n",
    "\n",
    "def train_hmm_model(X_train, n_components=5, n_iter=100):\n",
    "    \"\"\"\n",
    "    Gaussian HMM модель сургах\n",
    "    \n",
    "    Parameters:\n",
    "    -----------\n",
    "    X_train : numpy.ndarray\n",
    "        Сургалтын өгөгдөл\n",
    "    n_components : int\n",
    "        Далд төлөвүүдийн тоо (5 ангилал)\n",
    "    n_iter : int\n",
    "        Итерацийн тоо\n",
    "    \n",
    "    Returns:\n",
    "    --------\n",
    "    GaussianHMM : Сургагдсан модель\n",
    "    \"\"\"\n",
    "    # Gaussian HMM үүсгэх (бүрэн covariance matrix)\n",
    "    model = hmm.GaussianHMM(\n",
    "        n_components=n_components,\n",
    "        covariance_type=\"full\",\n",
    "        n_iter=n_iter,\n",
    "        random_state=42\n",
    "    )\n",
    "    \n",
    "    # Модель сургах\n",
    "    model.fit(X_train)\n",
    "    \n",
    "    return model\n",
    "\n",
    "def predict_labels(model, X):\n",
    "    \"\"\"\n",
    "    HMM модель ашиглан шошго таамаглах\n",
    "    \n",
    "    Parameters:\n",
    "    -----------\n",
    "    model : GaussianHMM\n",
    "        Сургагдсан модель\n",
    "    X : numpy.ndarray\n",
    "        Таамаглах өгөгдөл\n",
    "    \n",
    "    Returns:\n",
    "    --------\n",
    "    numpy.ndarray : Таамагласан шошгууд\n",
    "    \"\"\"\n",
    "    return model.predict(X)\n",
    "\n",
    "print(\"HMM сургах функцууд бэлэн ✓\")"
   ]
  },
  {
   "cell_type": "markdown",
   "id": "e2408dee",
   "metadata": {},
   "source": [
    "## 4. Walking Forward Analysis\n"
   ]
  },
  {
   "cell_type": "code",
   "execution_count": 5,
   "id": "d577f49d",
   "metadata": {},
   "outputs": [
    {
     "name": "stdout",
     "output_type": "stream",
     "text": [
      "Walking Forward функц бэлэн ✓\n"
     ]
    }
   ],
   "source": [
    "def walking_forward_analysis(df, train_size=10000, step_size=1000):\n",
    "    \"\"\"\n",
    "    Walking Forward аргаар модель сургаж таамаглал хийнэ\n",
    "    \n",
    "    Parameters:\n",
    "    -----------\n",
    "    df : DataFrame\n",
    "        Бүрэн дата\n",
    "    train_size : int\n",
    "        Сургалтын цонхны хэмжээ\n",
    "    step_size : int\n",
    "        Алхамын хэмжээ (хэдэн мөр урагш шилжих)\n",
    "    \n",
    "    Returns:\n",
    "    --------\n",
    "    DataFrame : Таамагласан шошго бүхий дата\n",
    "    \"\"\"\n",
    "    predictions = []\n",
    "    true_labels = []\n",
    "    \n",
    "    print(f\"\\nWalking Forward Analysis эхэлж байна...\")\n",
    "    print(f\"  Сургалтын цонх: {train_size:,} мөр\")\n",
    "    print(f\"  Алхамын хэмжээ: {step_size:,} мөр\")\n",
    "    \n",
    "    total_iterations = (len(df) - train_size) // step_size\n",
    "    \n",
    "    for i in range(0, len(df) - train_size, step_size):\n",
    "        # Сургалтын болон тестийн өгөгдөл хуваах\n",
    "        train_df = df.iloc[i:i+train_size]\n",
    "        test_df = df.iloc[i+train_size:i+train_size+step_size]\n",
    "        \n",
    "        if len(test_df) == 0:\n",
    "            break\n",
    "        \n",
    "        # Шинж чанаруудыг бэлдэх\n",
    "        X_train, scaler = prepare_features_for_hmm(train_df)\n",
    "        \n",
    "        feature_columns = ['returns', 'volatility', 'atr', 'ma_cross', 'rsi', 'volume_change']\n",
    "        X_test = scaler.transform(test_df[feature_columns].values)\n",
    "        \n",
    "        # Модель сургах\n",
    "        model = train_hmm_model(X_train, n_components=5, n_iter=50)\n",
    "        \n",
    "        # Таамаглал хийх\n",
    "        pred = predict_labels(model, X_test)\n",
    "        \n",
    "        predictions.extend(pred)\n",
    "        true_labels.extend(test_df['label'].values)\n",
    "        \n",
    "        current_iteration = (i // step_size) + 1\n",
    "        if current_iteration % 5 == 0:\n",
    "            print(f\"  Явц: {current_iteration}/{total_iterations} ({current_iteration/total_iterations*100:.1f}%)\")\n",
    "    \n",
    "    print(f\"\\nWalking Forward Analysis дууслаа ✓\")\n",
    "    print(f\"  Нийт таамагласан мөр: {len(predictions):,}\")\n",
    "    \n",
    "    results_df = pd.DataFrame({\n",
    "        'true_label': true_labels,\n",
    "        'predicted_label': predictions\n",
    "    })\n",
    "    \n",
    "    return results_df\n",
    "\n",
    "print(\"Walking Forward функц бэлэн ✓\")"
   ]
  },
  {
   "cell_type": "markdown",
   "id": "0ab574cb",
   "metadata": {},
   "source": [
    "## 5. Үр дүнг үнэлэх функцууд\n"
   ]
  },
  {
   "cell_type": "code",
   "execution_count": 6,
   "id": "39a2e6d0",
   "metadata": {},
   "outputs": [
    {
     "name": "stdout",
     "output_type": "stream",
     "text": [
      "Үнэлгээний функц бэлэн ✓\n"
     ]
    }
   ],
   "source": [
    "def evaluate_predictions(results_df):\n",
    "    \"\"\"\n",
    "    Таамаглалын үр дүнг үнэлж, дэлгэрэнгүй тайлан гаргана\n",
    "    \n",
    "    Parameters:\n",
    "    -----------\n",
    "    results_df : DataFrame\n",
    "        Үнэн болон таамагласан шошго бүхий дата\n",
    "    \"\"\"\n",
    "    y_true = results_df['true_label']\n",
    "    y_pred = results_df['predicted_label']\n",
    "    \n",
    "    # Ангилалын нэрс\n",
    "    label_names = [\n",
    "        'High Vol Down',\n",
    "        'Med Vol Down',\n",
    "        'No Trend',\n",
    "        'Med Vol Up',\n",
    "        'High Vol Up'\n",
    "    ]\n",
    "    \n",
    "    # Нийт нарийвчлал\n",
    "    accuracy = accuracy_score(y_true, y_pred)\n",
    "    print(f\"\\n{'='*60}\")\n",
    "    print(f\"НИЙТ НАРИЙВЧЛАЛ: {accuracy*100:.2f}%\")\n",
    "    print(f\"{'='*60}\\n\")\n",
    "    \n",
    "    # Дэлгэрэнгүй classification report\n",
    "    print(\"АНГИЛАЛ ТУС БҮРИЙН ГҮЙЦЭТГЭЛ:\")\n",
    "    print(classification_report(y_true, y_pred, target_names=label_names, zero_division=0))\n",
    "    \n",
    "    # Confusion Matrix\n",
    "    cm = confusion_matrix(y_true, y_pred)\n",
    "    \n",
    "    plt.figure(figsize=(12, 8))\n",
    "    sns.heatmap(cm, annot=True, fmt='d', cmap='Blues', \n",
    "                xticklabels=label_names, yticklabels=label_names)\n",
    "    plt.title('Confusion Matrix - Таамаглалын дэлгэрэнгүй', fontsize=14, pad=20)\n",
    "    plt.ylabel('Үнэн шошго', fontsize=12)\n",
    "    plt.xlabel('Таамагласан шошго', fontsize=12)\n",
    "    plt.xticks(rotation=45, ha='right')\n",
    "    plt.yticks(rotation=0)\n",
    "    plt.tight_layout()\n",
    "    plt.show()\n",
    "    \n",
    "    # Ангилал тус бүрийн нарийвчлал\n",
    "    print(\"\\nАНГИЛАЛ ТУС БҮРИЙН НАРИЙВЧЛАЛ:\")\n",
    "    for i, name in enumerate(label_names):\n",
    "        mask = (y_true == i)\n",
    "        if mask.sum() > 0:\n",
    "            class_acc = (y_pred[mask] == i).sum() / mask.sum()\n",
    "            print(f\"  {name}: {class_acc*100:.2f}% ({mask.sum():,} тохиолдол)\")\n",
    "    \n",
    "    return accuracy\n",
    "\n",
    "print(\"Үнэлгээний функц бэлэн ✓\")"
   ]
  },
  {
   "cell_type": "markdown",
   "id": "330cb574",
   "metadata": {},
   "source": [
    "## 6. Сургалтын датаг ачаалж боловсруулах\n"
   ]
  },
  {
   "cell_type": "code",
   "execution_count": 7,
   "id": "e7d04ff4",
   "metadata": {},
   "outputs": [
    {
     "name": "stdout",
     "output_type": "stream",
     "text": [
      "СУРГАЛТЫН ДАТА АЧААЛЖ БАЙНА...\n",
      "============================================================\n",
      "Уншиж байна: EUR_USD_1min.csv\n"
     ]
    },
    {
     "name": "stdout",
     "output_type": "stream",
     "text": [
      "  Мөрийн тоо: 1,859,492\n",
      "  Хугацаа: 2019-12-31 16:00:00+00:00 - 2024-12-30 16:00:00+00:00\n",
      "\n",
      "Шинж чанарууд тооцоолж байна...\n",
      "\n",
      "Шошго үүсгэж байна...\n",
      "\n",
      "Ангилалын хуваарилалт:\n",
      "  0 - High volatility down: 9,982 (10.0%)\n",
      "  1 - Medium volatility down: 4,942 (4.9%)\n",
      "  2 - No trend: 70,269 (70.3%)\n",
      "  3 - Medium volatility up: 4,998 (5.0%)\n",
      "  4 - High volatility up: 9,747 (9.8%)\n",
      "\n",
      "============================================================\n",
      "СУРГАЛТЫН ДАТА БЭЛЭН ✓\n",
      "  Нийт мөр: 99,938\n",
      "  Шинж чанарууд: returns, volatility, atr, ma_cross, rsi, volume_change\n",
      "============================================================\n"
     ]
    }
   ],
   "source": [
    "# Сургалтын датанууд\n",
    "train_folder = 'data/train'\n",
    "train_files = [\n",
    "    'EUR_USD_1min.csv',\n",
    "    'GBP_USD_1min.csv',\n",
    "    'USD_CAD_1min.csv',\n",
    "    'USD_CHF_1min.csv',\n",
    "    'USD_JPY_1min.csv',\n",
    "    'XAU_USD_1min.csv'\n",
    "]\n",
    "\n",
    "print(\"СУРГАЛТЫН ДАТА АЧААЛЖ БАЙНА...\")\n",
    "print(\"=\"*60)\n",
    "\n",
    "# Нэг файл дээр дадлага хийе (эхэндээ EUR_USD)\n",
    "# Та бүх файлуудыг нэгтгэж болно, гэхдээ том хэмжээний дата учраас анхааралтай байх хэрэгтэй\n",
    "train_file = os.path.join(train_folder, train_files[0])\n",
    "\n",
    "# Датаг уншиж боловсруулах\n",
    "df_train = load_forex_data(train_file)\n",
    "\n",
    "# Эхний хэдэн мөрийг нь авах (хурдан туршихын тулд)\n",
    "# Бүрэн дата ашиглахыг хүсвэл энэ мөрийг устгаарай\n",
    "df_train = df_train.iloc[:100000]  # Эхний 100,000 мөр\n",
    "\n",
    "print(f\"\\nШинж чанарууд тооцоолж байна...\")\n",
    "df_train = calculate_features(df_train)\n",
    "\n",
    "print(f\"\\nШошго үүсгэж байна...\")\n",
    "df_train = create_labels(df_train)\n",
    "\n",
    "print(f\"\\n{'='*60}\")\n",
    "print(f\"СУРГАЛТЫН ДАТА БЭЛЭН ✓\")\n",
    "print(f\"  Нийт мөр: {len(df_train):,}\")\n",
    "print(f\"  Шинж чанарууд: returns, volatility, atr, ma_cross, rsi, volume_change\")\n",
    "print(f\"{'='*60}\")"
   ]
  },
  {
   "cell_type": "markdown",
   "id": "2cf7f883",
   "metadata": {},
   "source": [
    "## 7. Walking Forward сургалт ба таамаглал\n"
   ]
  },
  {
   "cell_type": "code",
   "execution_count": 8,
   "id": "1a7fb56b",
   "metadata": {},
   "outputs": [
    {
     "name": "stdout",
     "output_type": "stream",
     "text": [
      "\n",
      "Walking Forward Analysis эхэлж байна...\n",
      "  Сургалтын цонх: 20,000 мөр\n",
      "  Алхамын хэмжээ: 5,000 мөр\n",
      "  Явц: 5/15 (33.3%)\n",
      "  Явц: 10/15 (66.7%)\n",
      "  Явц: 15/15 (100.0%)\n",
      "\n",
      "Walking Forward Analysis дууслаа ✓\n",
      "  Нийт таамагласан мөр: 79,938\n",
      "\n",
      "============================================================\n",
      "НИЙТ НАРИЙВЧЛАЛ: 17.90%\n",
      "============================================================\n",
      "\n",
      "АНГИЛАЛ ТУС БҮРИЙН ГҮЙЦЭТГЭЛ:\n",
      "               precision    recall  f1-score   support\n",
      "\n",
      "High Vol Down       0.10      0.12      0.11      9672\n",
      " Med Vol Down       0.05      0.17      0.07      4078\n",
      "     No Trend       0.59      0.16      0.25     52555\n",
      "   Med Vol Up       0.07      0.37      0.12      4108\n",
      "  High Vol Up       0.15      0.27      0.19      9525\n",
      "\n",
      "     accuracy                           0.18     79938\n",
      "    macro avg       0.19      0.22      0.15     79938\n",
      " weighted avg       0.42      0.18      0.21     79938\n",
      "\n"
     ]
    },
    {
     "data": {
      "image/png": "[encoded data removed]",
      "text/plain": [
       "<Figure size 1200x800 with 2 Axes>"
      ]
     },
     "metadata": {},
     "output_type": "display_data"
    },
    {
     "name": "stdout",
     "output_type": "stream",
     "text": [
      "\n",
      "АНГИЛАЛ ТУС БҮРИЙН НАРИЙВЧЛАЛ:\n",
      "  High Vol Down: 12.48% (9,672 тохиолдол)\n",
      "  Med Vol Down: 16.80% (4,078 тохиолдол)\n",
      "  No Trend: 15.74% (52,555 тохиолдол)\n",
      "  Med Vol Up: 37.22% (4,108 тохиолдол)\n",
      "  High Vol Up: 27.46% (9,525 тохиолдол)\n"
     ]
    }
   ],
   "source": [
    "# Walking Forward Analysis хийх\n",
    "# train_size болон step_size-ийг датаны хэмжээнээс хамааруулан тохируулна\n",
    "results_train = walking_forward_analysis(\n",
    "    df_train, \n",
    "    train_size=20000,  # 20,000 мөрөөр сургах\n",
    "    step_size=5000     # 5,000 мөр таамаглах\n",
    ")\n",
    "\n",
    "# Сургалтын үр дүнг үнэлэх\n",
    "train_accuracy = evaluate_predictions(results_train)"
   ]
  },
  {
   "cell_type": "markdown",
   "id": "3acb987d",
   "metadata": {},
   "source": [
    "## 8. Test датан дээр Backtest хийх\n"
   ]
  },
  {
   "cell_type": "code",
   "execution_count": 9,
   "id": "56546a77",
   "metadata": {},
   "outputs": [
    {
     "name": "stdout",
     "output_type": "stream",
     "text": [
      "\n",
      "============================================================\n",
      "BACKTEST - TEST ДАТА ДЭЭР ШАЛГАЛТ\n",
      "============================================================\n",
      "Уншиж байна: EUR_USD_test.csv\n",
      "  Мөрийн тоо: 296,778\n",
      "  Хугацаа: 2024-12-31 16:00:00+00:00 - 2025-10-17 06:11:00+00:00\n",
      "\n",
      "Ангилалын хуваарилалт:\n",
      "  0 - High volatility down: 28,672 (9.7%)\n",
      "  1 - Medium volatility down: 18,097 (6.1%)\n",
      "  2 - No trend: 202,518 (68.3%)\n",
      "  3 - Medium volatility up: 18,927 (6.4%)\n",
      "  4 - High volatility up: 28,514 (9.6%)\n",
      "\n",
      "============================================================\n",
      "TEST ДАТА БЭЛЭН ✓\n",
      "  Нийт мөр: 296,728\n",
      "============================================================\n",
      "\n",
      "Walking Forward Analysis эхэлж байна...\n",
      "  Сургалтын цонх: 10,000 мөр\n",
      "  Алхамын хэмжээ: 1,000 мөр\n",
      "  Явц: 5/286 (1.7%)\n",
      "  Явц: 10/286 (3.5%)\n",
      "  Явц: 15/286 (5.2%)\n",
      "  Явц: 20/286 (7.0%)\n",
      "  Явц: 25/286 (8.7%)\n",
      "  Явц: 30/286 (10.5%)\n",
      "  Явц: 35/286 (12.2%)\n",
      "  Явц: 40/286 (14.0%)\n",
      "  Явц: 45/286 (15.7%)\n",
      "  Явц: 50/286 (17.5%)\n",
      "  Явц: 55/286 (19.2%)\n"
     ]
    },
    {
     "name": "stderr",
     "output_type": "stream",
     "text": [
      "Model is not converging.  Current: -44659.95799321323 is not greater than -44655.24259921067. Delta is -4.7153940025600605\n"
     ]
    },
    {
     "name": "stdout",
     "output_type": "stream",
     "text": [
      "  Явц: 60/286 (21.0%)\n",
      "  Явц: 65/286 (22.7%)\n",
      "  Явц: 70/286 (24.5%)\n",
      "  Явц: 75/286 (26.2%)\n",
      "  Явц: 80/286 (28.0%)\n",
      "  Явц: 85/286 (29.7%)\n",
      "  Явц: 90/286 (31.5%)\n"
     ]
    },
    {
     "name": "stderr",
     "output_type": "stream",
     "text": [
      "Model is not converging.  Current: -41615.81874152877 is not greater than -41611.7851134544. Delta is -4.0336280743649695\n"
     ]
    },
    {
     "name": "stdout",
     "output_type": "stream",
     "text": [
      "  Явц: 95/286 (33.2%)\n",
      "  Явц: 100/286 (35.0%)\n",
      "  Явц: 105/286 (36.7%)\n",
      "  Явц: 110/286 (38.5%)\n"
     ]
    },
    {
     "name": "stderr",
     "output_type": "stream",
     "text": [
      "Model is not converging.  Current: -46030.26790192026 is not greater than -45997.451254680054. Delta is -32.81664724020811\n"
     ]
    },
    {
     "name": "stdout",
     "output_type": "stream",
     "text": [
      "  Явц: 115/286 (40.2%)\n",
      "  Явц: 120/286 (42.0%)\n",
      "  Явц: 125/286 (43.7%)\n",
      "  Явц: 130/286 (45.5%)\n",
      "  Явц: 135/286 (47.2%)\n",
      "  Явц: 140/286 (49.0%)\n",
      "  Явц: 145/286 (50.7%)\n",
      "  Явц: 150/286 (52.4%)\n",
      "  Явц: 155/286 (54.2%)\n",
      "  Явц: 160/286 (55.9%)\n",
      "  Явц: 165/286 (57.7%)\n",
      "  Явц: 170/286 (59.4%)\n",
      "  Явц: 175/286 (61.2%)\n",
      "  Явц: 180/286 (62.9%)\n",
      "  Явц: 185/286 (64.7%)\n",
      "  Явц: 190/286 (66.4%)\n",
      "  Явц: 195/286 (68.2%)\n",
      "  Явц: 200/286 (69.9%)\n",
      "  Явц: 205/286 (71.7%)\n",
      "  Явц: 210/286 (73.4%)\n",
      "  Явц: 215/286 (75.2%)\n",
      "  Явц: 220/286 (76.9%)\n",
      "  Явц: 225/286 (78.7%)\n"
     ]
    },
    {
     "name": "stderr",
     "output_type": "stream",
     "text": [
      "Model is not converging.  Current: -44480.04114915261 is not greater than -44472.78205726583. Delta is -7.259091886779061\n"
     ]
    },
    {
     "name": "stdout",
     "output_type": "stream",
     "text": [
      "  Явц: 230/286 (80.4%)\n"
     ]
    },
    {
     "name": "stderr",
     "output_type": "stream",
     "text": [
      "Model is not converging.  Current: -36165.7391278281 is not greater than -36156.07624668917. Delta is -9.66288113893097\n",
      "Model is not converging.  Current: -40027.800098992746 is not greater than -40018.551625643086. Delta is -9.248473349660344\n"
     ]
    },
    {
     "name": "stdout",
     "output_type": "stream",
     "text": [
      "  Явц: 235/286 (82.2%)\n"
     ]
    },
    {
     "name": "stderr",
     "output_type": "stream",
     "text": [
      "Model is not converging.  Current: -42860.70922834795 is not greater than -42859.8653084239. Delta is -0.8439199240528978\n"
     ]
    },
    {
     "name": "stdout",
     "output_type": "stream",
     "text": [
      "  Явц: 240/286 (83.9%)\n",
      "  Явц: 245/286 (85.7%)\n",
      "  Явц: 250/286 (87.4%)\n",
      "  Явц: 255/286 (89.2%)\n",
      "  Явц: 260/286 (90.9%)\n",
      "  Явц: 265/286 (92.7%)\n",
      "  Явц: 270/286 (94.4%)\n",
      "  Явц: 275/286 (96.2%)\n",
      "  Явц: 280/286 (97.9%)\n",
      "  Явц: 285/286 (99.7%)\n",
      "\n",
      "Walking Forward Analysis дууслаа ✓\n",
      "  Нийт таамагласан мөр: 286,728\n",
      "\n",
      "============================================================\n",
      "НИЙТ НАРИЙВЧЛАЛ: 19.77%\n",
      "============================================================\n",
      "\n",
      "АНГИЛАЛ ТУС БҮРИЙН ГҮЙЦЭТГЭЛ:\n",
      "               precision    recall  f1-score   support\n",
      "\n",
      "High Vol Down       0.09      0.22      0.13     27802\n",
      " Med Vol Down       0.07      0.25      0.10     17548\n",
      "     No Trend       0.66      0.20      0.30    195359\n",
      "   Med Vol Up       0.06      0.16      0.08     18371\n",
      "  High Vol Up       0.12      0.18      0.14     27648\n",
      "\n",
      "     accuracy                           0.20    286728\n",
      "    macro avg       0.20      0.20      0.15    286728\n",
      " weighted avg       0.48      0.20      0.24    286728\n",
      "\n"
     ]
    },
    {
     "data": {
      "image/png": "[encoded data removed]",
      "text/plain": [
       "<Figure size 1200x800 with 2 Axes>"
      ]
     },
     "metadata": {},
     "output_type": "display_data"
    },
    {
     "name": "stdout",
     "output_type": "stream",
     "text": [
      "\n",
      "АНГИЛАЛ ТУС БҮРИЙН НАРИЙВЧЛАЛ:\n",
      "  High Vol Down: 21.75% (27,802 тохиолдол)\n",
      "  Med Vol Down: 24.69% (17,548 тохиолдол)\n",
      "  No Trend: 19.66% (195,359 тохиолдол)\n",
      "  Med Vol Up: 15.74% (18,371 тохиолдол)\n",
      "  High Vol Up: 18.14% (27,648 тохиолдол)\n"
     ]
    }
   ],
   "source": [
    "# Test датанууд\n",
    "test_folder = 'data/test'\n",
    "test_files = [\n",
    "    'EUR_USD_test.csv',\n",
    "    'GBP_USD_test.csv',\n",
    "    'USD_CAD_test.csv',\n",
    "    'USD_CHF_test.csv',\n",
    "    'USD_JPY_test.csv',\n",
    "    'XAU_USD_test.csv'\n",
    "]\n",
    "\n",
    "print(\"\\n\" + \"=\"*60)\n",
    "print(\"BACKTEST - TEST ДАТА ДЭЭР ШАЛГАЛТ\")\n",
    "print(\"=\"*60)\n",
    "\n",
    "# EUR_USD test датаг ашиглах\n",
    "test_file = os.path.join(test_folder, test_files[0])\n",
    "\n",
    "# Датаг уншиж боловсруулах\n",
    "df_test = load_forex_data(test_file)\n",
    "df_test = calculate_features(df_test)\n",
    "df_test = create_labels(df_test)\n",
    "\n",
    "print(f\"\\n{'='*60}\")\n",
    "print(f\"TEST ДАТА БЭЛЭН ✓\")\n",
    "print(f\"  Нийт мөр: {len(df_test):,}\")\n",
    "print(f\"{'='*60}\")\n",
    "\n",
    "# Walking Forward Analysis - Test датан дээр\n",
    "results_test = walking_forward_analysis(\n",
    "    df_test,\n",
    "    train_size=min(10000, len(df_test)//2),  # Test датаны хагасыг сургалтад\n",
    "    step_size=1000\n",
    ")\n",
    "\n",
    "# Test үр дүнг үнэлэх\n",
    "test_accuracy = evaluate_predictions(results_test)"
   ]
  },
  {
   "cell_type": "markdown",
   "id": "e05d1762",
   "metadata": {},
   "source": [
    "## 9. Эцсийн модель сургаж хадгалах\n"
   ]
  },
  {
   "cell_type": "code",
   "execution_count": 10,
   "id": "06bb52f3",
   "metadata": {},
   "outputs": [
    {
     "name": "stdout",
     "output_type": "stream",
     "text": [
      "\n",
      "============================================================\n",
      "ЭЦСИЙН МОДЕЛЬ СУРГАЖ БАЙНА...\n",
      "============================================================\n",
      "\n",
      "Модель сургагдлаа ✓\n",
      "\n",
      "Модель хадгалагдлаа:\n",
      "  models\\hmm_forex_model.pkl\n",
      "  models\\hmm_scaler.pkl\n",
      "\n",
      "Модель параметрүүд:\n",
      "  Далд төлөвүүдийн тоо: 5\n",
      "  Шинж чанарууд: returns, volatility, atr, ma_cross, rsi, volume_change\n",
      "  Covariance type: full\n"
     ]
    }
   ],
   "source": [
    "print(\"\\n\" + \"=\"*60)\n",
    "print(\"ЭЦСИЙН МОДЕЛЬ СУРГАЖ БАЙНА...\")\n",
    "print(\"=\"*60)\n",
    "\n",
    "# Бүх сургалтын датаг ашиглан эцсийн модель сургах\n",
    "X_final, scaler_final = prepare_features_for_hmm(df_train)\n",
    "final_model = train_hmm_model(X_final, n_components=5, n_iter=100)\n",
    "\n",
    "print(\"\\nМодель сургагдлаа ✓\")\n",
    "\n",
    "# Модель ба scaler-ийг хадгалах\n",
    "model_folder = 'models'\n",
    "os.makedirs(model_folder, exist_ok=True)\n",
    "\n",
    "model_path = os.path.join(model_folder, 'hmm_forex_model.pkl')\n",
    "scaler_path = os.path.join(model_folder, 'hmm_scaler.pkl')\n",
    "\n",
    "with open(model_path, 'wb') as f:\n",
    "    pickle.dump(final_model, f)\n",
    "\n",
    "with open(scaler_path, 'wb') as f:\n",
    "    pickle.dump(scaler_final, f)\n",
    "\n",
    "print(f\"\\nМодель хадгалагдлаа:\")\n",
    "print(f\"  {model_path}\")\n",
    "print(f\"  {scaler_path}\")\n",
    "\n",
    "# Модель параметрүүд\n",
    "print(f\"\\nМодель параметрүүд:\")\n",
    "print(f\"  Далд төлөвүүдийн тоо: {final_model.n_components}\")\n",
    "print(f\"  Шинж чанарууд: returns, volatility, atr, ma_cross, rsi, volume_change\")\n",
    "print(f\"  Covariance type: {final_model.covariance_type}\")"
   ]
  },
  {
   "cell_type": "markdown",
   "id": "a6c1df12",
   "metadata": {},
   "source": [
    "## 10. Эцсийн дүгнэлт\n"
   ]
  },
  {
   "cell_type": "code",
   "execution_count": 11,
   "id": "46099ad2",
   "metadata": {},
   "outputs": [
    {
     "name": "stdout",
     "output_type": "stream",
     "text": [
      "\n",
      "============================================================\n",
      "ЭЦСИЙН ДҮН\n",
      "============================================================\n",
      "\n",
      "📊 ГҮЙЦЭТГЭЛ:\n",
      "  Сургалтын нарийвчлал: 17.90%\n",
      "  Test нарийвчлал: 19.77%\n",
      "\n",
      "🎯 АНГИЛАЛУУД:\n",
      "  0 - High volatility down\n",
      "  1 - Medium volatility down\n",
      "  2 - No trend\n",
      "  3 - Medium volatility up\n",
      "  4 - High volatility up\n",
      "\n",
      "💾 ХАДГАЛСАН ФАЙЛУУД:\n",
      "  - models/hmm_forex_model.pkl (HMM модель)\n",
      "  - models/hmm_scaler.pkl (Feature scaler)\n",
      "\n",
      "📱 REACT NATIVE АППЛИКЕЙШН ХӨГЖҮҮЛЭХЭД:\n",
      "  1. Python backend API үүсгэх (Flask/FastAPI)\n",
      "  2. Модель ачаалж, шинэ датан дээр таамаглал хийх endpoint үүсгэх\n",
      "  3. React Native frontend-оос API дуудах\n",
      "  4. Үр дүнг график болон текстээр харуулах\n",
      "\n",
      "✅ МАШИН СУРГАЛТЫН ПРОЦЕСС АМЖИЛТТАЙ ДУУСЛАА!\n",
      "============================================================\n"
     ]
    }
   ],
   "source": [
    "print(\"\\n\" + \"=\"*60)\n",
    "print(\"ЭЦСИЙН ДҮН\")\n",
    "print(\"=\"*60)\n",
    "\n",
    "print(f\"\\n📊 ГҮЙЦЭТГЭЛ:\")\n",
    "print(f\"  Сургалтын нарийвчлал: {train_accuracy*100:.2f}%\")\n",
    "print(f\"  Test нарийвчлал: {test_accuracy*100:.2f}%\")\n",
    "\n",
    "print(f\"\\n🎯 АНГИЛАЛУУД:\")\n",
    "print(f\"  0 - High volatility down\")\n",
    "print(f\"  1 - Medium volatility down\")\n",
    "print(f\"  2 - No trend\")\n",
    "print(f\"  3 - Medium volatility up\")\n",
    "print(f\"  4 - High volatility up\")\n",
    "\n",
    "print(f\"\\n💾 ХАДГАЛСАН ФАЙЛУУД:\")\n",
    "print(f\"  - models/hmm_forex_model.pkl (HMM модель)\")\n",
    "print(f\"  - models/hmm_scaler.pkl (Feature scaler)\")\n",
    "\n",
    "print(f\"\\n📱 REACT NATIVE АППЛИКЕЙШН ХӨГЖҮҮЛЭХЭД:\")\n",
    "print(f\"  1. Python backend API үүсгэх (Flask/FastAPI)\")\n",
    "print(f\"  2. Модель ачаалж, шинэ датан дээр таамаглал хийх endpoint үүсгэх\")\n",
    "print(f\"  3. React Native frontend-оос API дуудах\")\n",
    "print(f\"  4. Үр дүнг график болон текстээр харуулах\")\n",
    "\n",
    "print(f\"\\n✅ МАШИН СУРГАЛТЫН ПРОЦЕСС АМЖИЛТТАЙ ДУУСЛАА!\")\n",
    "print(\"=\"*60)"
   ]
  },
  {
   "cell_type": "markdown",
   "id": "f4dd4557",
   "metadata": {},
   "source": [
    "## Нэмэлт: Модель ашиглах жишээ\n"
   ]
  },
  {
   "cell_type": "code",
   "execution_count": 12,
   "id": "f0d88132",
   "metadata": {},
   "outputs": [
    {
     "name": "stdout",
     "output_type": "stream",
     "text": [
      "\n",
      "Модель ашиглах функц бэлэн ✓\n",
      "Жишээ: load_model_and_predict('test_data.csv')\n"
     ]
    }
   ],
   "source": [
    "# Модель ачаалах жишээ\n",
    "def load_model_and_predict(data_file):\n",
    "    \"\"\"\n",
    "    Хадгалагдсан модель ашиглан шинэ дата дээр таамаглал хийх\n",
    "    \"\"\"\n",
    "    # Модель ачаалах\n",
    "    with open('models/hmm_forex_model.pkl', 'rb') as f:\n",
    "        model = pickle.load(f)\n",
    "    \n",
    "    with open('models/hmm_scaler.pkl', 'rb') as f:\n",
    "        scaler = pickle.load(f)\n",
    "    \n",
    "    # Дата уншиж боловсруулах\n",
    "    df = load_forex_data(data_file)\n",
    "    df = calculate_features(df)\n",
    "    \n",
    "    # Шинж чанаруудыг бэлдэх\n",
    "    feature_columns = ['returns', 'volatility', 'atr', 'ma_cross', 'rsi', 'volume_change']\n",
    "    X = scaler.transform(df[feature_columns].values)\n",
    "    \n",
    "    # Таамаглал хийх\n",
    "    predictions = model.predict(X)\n",
    "    \n",
    "    # Ангилалын нэрс\n",
    "    label_names = {\n",
    "        0: 'High volatility down',\n",
    "        1: 'Medium volatility down',\n",
    "        2: 'No trend',\n",
    "        3: 'Medium volatility up',\n",
    "        4: 'High volatility up'\n",
    "    }\n",
    "    \n",
    "    # Үр дүн\n",
    "    df['predicted_trend'] = predictions\n",
    "    df['trend_name'] = df['predicted_trend'].map(label_names)\n",
    "    \n",
    "    return df\n",
    "\n",
    "print(\"\\nМодель ашиглах функц бэлэн ✓\")\n",
    "print(\"Жишээ: load_model_and_predict('test_data.csv')\")"
   ]
  }
 ],
 "metadata": {
  "kernelspec": {
   "display_name": ".venv",
   "language": "python",
   "name": "python3"
  },
  "language_info": {
   "codemirror_mode": {
    "name": "ipython",
    "version": 3
   },
   "file_extension": ".py",
   "mimetype": "text/x-python",
   "name": "python",
   "nbconvert_exporter": "python",
   "pygments_lexer": "ipython3",
   "version": "3.13.3"
  }
 },
 "nbformat": 4,
 "nbformat_minor": 5
}
